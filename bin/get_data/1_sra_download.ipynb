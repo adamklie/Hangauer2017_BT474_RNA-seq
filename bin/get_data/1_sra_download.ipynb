{
 "cells": [
  {
   "attachments": {},
   "cell_type": "markdown",
   "metadata": {},
   "source": [
    "# Set-up"
   ]
  },
  {
   "cell_type": "code",
   "execution_count": 43,
   "metadata": {},
   "outputs": [],
   "source": [
    "import os\n",
    "import sys\n",
    "import glob\n",
    "import pickle\n",
    "from tqdm.autonotebook import tqdm\n",
    "from pysradb.sraweb import SRAweb\n",
    "\n",
    "# Add conda environment to path\n",
    "sys.path.append('/cellar/users/aklie/opt/miniconda3/envs/get_data/bin/')\n",
    "os.environ['PATH'] = '/cellar/users/aklie/opt/miniconda3/envs/get_data/bin/' + ':' + os.environ['PATH']"
   ]
  },
  {
   "cell_type": "code",
   "execution_count": 2,
   "metadata": {},
   "outputs": [],
   "source": [
    "# Choose the current dataset we are working with\n",
    "dataset_name = \"Hangauer2017_BT474_RNA-seq\"\n",
    "srp_id = \"SRP079968\""
   ]
  },
  {
   "cell_type": "code",
   "execution_count": 3,
   "metadata": {},
   "outputs": [
    {
     "data": {
      "text/plain": [
       "('/cellar/users/aklie/data/datasets/Hangauer2017_BT474_RNA-seq',\n",
       " '/cellar/users/aklie/data/datasets/Hangauer2017_BT474_RNA-seq/bin/get_data',\n",
       " '/cellar/users/aklie/data/datasets/Hangauer2017_BT474_RNA-seq/fastq')"
      ]
     },
     "execution_count": 3,
     "metadata": {},
     "output_type": "execute_result"
    }
   ],
   "source": [
    "# Set-up directories\n",
    "base_dir = \"/cellar/users/aklie/data/datasets/Hangauer2017_BT474_RNA-seq\"\n",
    "cwd = os.path.join(base_dir, \"bin/get_data\")\n",
    "fastq_dir = os.path.join(base_dir, \"fastq\")\n",
    "base_dir, cwd, fastq_dir"
   ]
  },
  {
   "cell_type": "code",
   "execution_count": 4,
   "metadata": {},
   "outputs": [],
   "source": [
    "# Connect to SRA\n",
    "db = SRAweb()"
   ]
  },
  {
   "attachments": {},
   "cell_type": "markdown",
   "metadata": {},
   "source": [
    "# Get metadata"
   ]
  },
  {
   "cell_type": "code",
   "execution_count": 5,
   "metadata": {},
   "outputs": [
    {
     "data": {
      "text/plain": [
       "25"
      ]
     },
     "execution_count": 5,
     "metadata": {},
     "output_type": "execute_result"
    }
   ],
   "source": [
    "# Grab the metadata for the SRP\n",
    "metadata = db.sra_metadata(srp_id, detailed=True)\n",
    "len(metadata)"
   ]
  },
  {
   "cell_type": "code",
   "execution_count": 6,
   "metadata": {},
   "outputs": [],
   "source": [
    "# Save the metadata and the list of srr ids\n",
    "metadata.to_csv(os.path.join(cwd, f\"{srp_id}_metadata.tsv\"), index=False, sep=\"\\t\")\n",
    "metadata[\"run_accession\"].to_csv(os.path.join(cwd, f\"{srp_id}_srr_ids.txt\"), index=False, header=False)"
   ]
  },
  {
   "cell_type": "code",
   "execution_count": 9,
   "metadata": {},
   "outputs": [
    {
     "data": {
      "text/plain": [
       "Index(['run_accession', 'study_accession', 'study_title',\n",
       "       'experiment_accession', 'experiment_title', 'experiment_desc',\n",
       "       'organism_taxid', 'organism_name', 'library_name', 'library_strategy',\n",
       "       'library_source', 'library_selection', 'library_layout',\n",
       "       'sample_accession', 'sample_title', 'instrument', 'instrument_model',\n",
       "       'instrument_model_desc', 'total_spots', 'total_size', 'run_total_spots',\n",
       "       'run_total_bases', 'run_alias', 'public_filename', 'public_size',\n",
       "       'public_date', 'public_md5', 'public_version', 'public_semantic_name',\n",
       "       'public_supertype', 'public_sratoolkit', 'aws_url', 'aws_free_egress',\n",
       "       'aws_access_type', 'public_url', 'ncbi_url', 'ncbi_free_egress',\n",
       "       'ncbi_access_type', 'gcp_url', 'gcp_free_egress', 'gcp_access_type',\n",
       "       'experiment_alias', 'source_name', 'cell line', 'tissue of origin',\n",
       "       'number of cells', 'ena_fastq_http', 'ena_fastq_http_1',\n",
       "       'ena_fastq_http_2', 'ena_fastq_ftp', 'ena_fastq_ftp_1',\n",
       "       'ena_fastq_ftp_2'],\n",
       "      dtype='object')"
      ]
     },
     "execution_count": 9,
     "metadata": {},
     "output_type": "execute_result"
    }
   ],
   "source": [
    "metadata.columns"
   ]
  },
  {
   "cell_type": "code",
   "execution_count": 22,
   "metadata": {},
   "outputs": [
    {
     "data": {
      "text/plain": [
       "BT474_Parental_rep_1     5\n",
       "BT474_Parental_rep_2     5\n",
       "BT474_Persister_rep_1    5\n",
       "BT474_Persister_rep_2    5\n",
       "BT474_Persister_rep_3    5\n",
       "Name: sample_name, dtype: int64"
      ]
     },
     "execution_count": 22,
     "metadata": {},
     "output_type": "execute_result"
    }
   ],
   "source": [
    "metadata[\"sample_name\"] = metadata['experiment_desc'].str.split(\":\").str[1].str.split(\";\").str[0].str.strip().str.replace(\" \", \"_\")\n",
    "metadata[\"sample_name\"].value_counts()"
   ]
  },
  {
   "cell_type": "code",
   "execution_count": 23,
   "metadata": {},
   "outputs": [
    {
     "data": {
      "text/plain": [
       "0     1\n",
       "1     2\n",
       "2     3\n",
       "3     4\n",
       "4     5\n",
       "5     1\n",
       "6     2\n",
       "7     3\n",
       "8     4\n",
       "9     5\n",
       "10    1\n",
       "11    2\n",
       "12    3\n",
       "13    4\n",
       "14    5\n",
       "15    1\n",
       "16    2\n",
       "17    3\n",
       "18    4\n",
       "19    5\n",
       "20    1\n",
       "21    2\n",
       "22    3\n",
       "23    4\n",
       "24    5\n",
       "Name: lane, dtype: int64"
      ]
     },
     "execution_count": 23,
     "metadata": {},
     "output_type": "execute_result"
    }
   ],
   "source": [
    "# for each duplicate sample, make a lane column in numerically increasing order (1, 2, 3, ...)\n",
    "metadata[\"lane\"] = metadata.groupby(\"sample_name\").cumcount() + 1\n",
    "metadata[\"lane\"]"
   ]
  },
  {
   "cell_type": "code",
   "execution_count": 25,
   "metadata": {},
   "outputs": [
    {
     "data": {
      "text/plain": [
       "{'SRX1979973': 'BT474_Parental_rep_1',\n",
       " 'SRX1979974': 'BT474_Parental_rep_2',\n",
       " 'SRX1979975': 'BT474_Persister_rep_1',\n",
       " 'SRX1979976': 'BT474_Persister_rep_2',\n",
       " 'SRX1979977': 'BT474_Persister_rep_3'}"
      ]
     },
     "execution_count": 25,
     "metadata": {},
     "output_type": "execute_result"
    }
   ],
   "source": [
    "# Get a mapping of experiment accessions to sample ids, useful for chromap and CellRanger\n",
    "expacc_to_sample = metadata.set_index(\"experiment_accession\")[\"sample_name\"].to_dict()\n",
    "expacc_to_sample"
   ]
  },
  {
   "cell_type": "code",
   "execution_count": 31,
   "metadata": {},
   "outputs": [
    {
     "data": {
      "text/plain": [
       "(5,\n",
       " ['/cellar/users/aklie/data/datasets/Hangauer2017_BT474_RNA-seq/fastq/SRP079968/SRX1979974',\n",
       "  '/cellar/users/aklie/data/datasets/Hangauer2017_BT474_RNA-seq/fastq/SRP079968/SRX1979973',\n",
       "  '/cellar/users/aklie/data/datasets/Hangauer2017_BT474_RNA-seq/fastq/SRP079968/SRX1979977',\n",
       "  '/cellar/users/aklie/data/datasets/Hangauer2017_BT474_RNA-seq/fastq/SRP079968/SRX1979975',\n",
       "  '/cellar/users/aklie/data/datasets/Hangauer2017_BT474_RNA-seq/fastq/SRP079968/SRX1979976'])"
      ]
     },
     "execution_count": 31,
     "metadata": {},
     "output_type": "execute_result"
    }
   ],
   "source": [
    "# Grab datasets dirs\n",
    "datasets = glob.glob(\"/cellar/users/aklie/data/datasets/Hangauer2017_BT474_RNA-seq/fastq/SRP079968/*\")\n",
    "len(datasets), datasets"
   ]
  },
  {
   "cell_type": "code",
   "execution_count": 66,
   "metadata": {},
   "outputs": [
    {
     "name": "stdout",
     "output_type": "stream",
     "text": [
      "mv /cellar/users/aklie/data/datasets/Hangauer2017_BT474_RNA-seq/fastq/SRP079968/SRX1979974/SRR3955806_1.fastq.gz /cellar/users/aklie/data/datasets/Hangauer2017_BT474_RNA-seq/fastq/SRP079968/SRX1979974/BT474_Parental_rep_2_L001_R1.fastq.gz\n",
      "mv /cellar/users/aklie/data/datasets/Hangauer2017_BT474_RNA-seq/fastq/SRP079968/SRX1979974/SRR3955807_1.fastq.gz /cellar/users/aklie/data/datasets/Hangauer2017_BT474_RNA-seq/fastq/SRP079968/SRX1979974/BT474_Parental_rep_2_L002_R1.fastq.gz\n",
      "mv /cellar/users/aklie/data/datasets/Hangauer2017_BT474_RNA-seq/fastq/SRP079968/SRX1979974/SRR3955808_1.fastq.gz /cellar/users/aklie/data/datasets/Hangauer2017_BT474_RNA-seq/fastq/SRP079968/SRX1979974/BT474_Parental_rep_2_L003_R1.fastq.gz\n",
      "mv /cellar/users/aklie/data/datasets/Hangauer2017_BT474_RNA-seq/fastq/SRP079968/SRX1979974/SRR3955809_1.fastq.gz /cellar/users/aklie/data/datasets/Hangauer2017_BT474_RNA-seq/fastq/SRP079968/SRX1979974/BT474_Parental_rep_2_L004_R1.fastq.gz\n",
      "mv /cellar/users/aklie/data/datasets/Hangauer2017_BT474_RNA-seq/fastq/SRP079968/SRX1979974/SRR3955810_1.fastq.gz /cellar/users/aklie/data/datasets/Hangauer2017_BT474_RNA-seq/fastq/SRP079968/SRX1979974/BT474_Parental_rep_2_L005_R1.fastq.gz\n",
      "mv /cellar/users/aklie/data/datasets/Hangauer2017_BT474_RNA-seq/fastq/SRP079968/SRX1979973/SRR3955801_1.fastq.gz /cellar/users/aklie/data/datasets/Hangauer2017_BT474_RNA-seq/fastq/SRP079968/SRX1979973/BT474_Parental_rep_1_L001_R1.fastq.gz\n",
      "mv /cellar/users/aklie/data/datasets/Hangauer2017_BT474_RNA-seq/fastq/SRP079968/SRX1979973/SRR3955802_1.fastq.gz /cellar/users/aklie/data/datasets/Hangauer2017_BT474_RNA-seq/fastq/SRP079968/SRX1979973/BT474_Parental_rep_1_L002_R1.fastq.gz\n",
      "mv /cellar/users/aklie/data/datasets/Hangauer2017_BT474_RNA-seq/fastq/SRP079968/SRX1979973/SRR3955803_1.fastq.gz /cellar/users/aklie/data/datasets/Hangauer2017_BT474_RNA-seq/fastq/SRP079968/SRX1979973/BT474_Parental_rep_1_L003_R1.fastq.gz\n",
      "mv /cellar/users/aklie/data/datasets/Hangauer2017_BT474_RNA-seq/fastq/SRP079968/SRX1979973/SRR3955804_1.fastq.gz /cellar/users/aklie/data/datasets/Hangauer2017_BT474_RNA-seq/fastq/SRP079968/SRX1979973/BT474_Parental_rep_1_L004_R1.fastq.gz\n",
      "mv /cellar/users/aklie/data/datasets/Hangauer2017_BT474_RNA-seq/fastq/SRP079968/SRX1979973/SRR3955805_1.fastq.gz /cellar/users/aklie/data/datasets/Hangauer2017_BT474_RNA-seq/fastq/SRP079968/SRX1979973/BT474_Parental_rep_1_L005_R1.fastq.gz\n",
      "mv /cellar/users/aklie/data/datasets/Hangauer2017_BT474_RNA-seq/fastq/SRP079968/SRX1979977/SRR3955821_1.fastq.gz /cellar/users/aklie/data/datasets/Hangauer2017_BT474_RNA-seq/fastq/SRP079968/SRX1979977/BT474_Persister_rep_3_L001_R1.fastq.gz\n",
      "mv /cellar/users/aklie/data/datasets/Hangauer2017_BT474_RNA-seq/fastq/SRP079968/SRX1979977/SRR3955822_1.fastq.gz /cellar/users/aklie/data/datasets/Hangauer2017_BT474_RNA-seq/fastq/SRP079968/SRX1979977/BT474_Persister_rep_3_L002_R1.fastq.gz\n",
      "mv /cellar/users/aklie/data/datasets/Hangauer2017_BT474_RNA-seq/fastq/SRP079968/SRX1979977/SRR3955823_1.fastq.gz /cellar/users/aklie/data/datasets/Hangauer2017_BT474_RNA-seq/fastq/SRP079968/SRX1979977/BT474_Persister_rep_3_L003_R1.fastq.gz\n",
      "mv /cellar/users/aklie/data/datasets/Hangauer2017_BT474_RNA-seq/fastq/SRP079968/SRX1979977/SRR3955824_1.fastq.gz /cellar/users/aklie/data/datasets/Hangauer2017_BT474_RNA-seq/fastq/SRP079968/SRX1979977/BT474_Persister_rep_3_L004_R1.fastq.gz\n",
      "mv /cellar/users/aklie/data/datasets/Hangauer2017_BT474_RNA-seq/fastq/SRP079968/SRX1979977/SRR3955825_1.fastq.gz /cellar/users/aklie/data/datasets/Hangauer2017_BT474_RNA-seq/fastq/SRP079968/SRX1979977/BT474_Persister_rep_3_L005_R1.fastq.gz\n",
      "mv /cellar/users/aklie/data/datasets/Hangauer2017_BT474_RNA-seq/fastq/SRP079968/SRX1979975/SRR3955811_1.fastq.gz /cellar/users/aklie/data/datasets/Hangauer2017_BT474_RNA-seq/fastq/SRP079968/SRX1979975/BT474_Persister_rep_1_L001_R1.fastq.gz\n",
      "mv /cellar/users/aklie/data/datasets/Hangauer2017_BT474_RNA-seq/fastq/SRP079968/SRX1979975/SRR3955812_1.fastq.gz /cellar/users/aklie/data/datasets/Hangauer2017_BT474_RNA-seq/fastq/SRP079968/SRX1979975/BT474_Persister_rep_1_L002_R1.fastq.gz\n",
      "mv /cellar/users/aklie/data/datasets/Hangauer2017_BT474_RNA-seq/fastq/SRP079968/SRX1979975/SRR3955813_1.fastq.gz /cellar/users/aklie/data/datasets/Hangauer2017_BT474_RNA-seq/fastq/SRP079968/SRX1979975/BT474_Persister_rep_1_L003_R1.fastq.gz\n",
      "mv /cellar/users/aklie/data/datasets/Hangauer2017_BT474_RNA-seq/fastq/SRP079968/SRX1979975/SRR3955814_1.fastq.gz /cellar/users/aklie/data/datasets/Hangauer2017_BT474_RNA-seq/fastq/SRP079968/SRX1979975/BT474_Persister_rep_1_L004_R1.fastq.gz\n",
      "mv /cellar/users/aklie/data/datasets/Hangauer2017_BT474_RNA-seq/fastq/SRP079968/SRX1979975/SRR3955815_1.fastq.gz /cellar/users/aklie/data/datasets/Hangauer2017_BT474_RNA-seq/fastq/SRP079968/SRX1979975/BT474_Persister_rep_1_L005_R1.fastq.gz\n",
      "mv /cellar/users/aklie/data/datasets/Hangauer2017_BT474_RNA-seq/fastq/SRP079968/SRX1979976/SRR3955816_1.fastq.gz /cellar/users/aklie/data/datasets/Hangauer2017_BT474_RNA-seq/fastq/SRP079968/SRX1979976/BT474_Persister_rep_2_L001_R1.fastq.gz\n",
      "mv /cellar/users/aklie/data/datasets/Hangauer2017_BT474_RNA-seq/fastq/SRP079968/SRX1979976/SRR3955817_1.fastq.gz /cellar/users/aklie/data/datasets/Hangauer2017_BT474_RNA-seq/fastq/SRP079968/SRX1979976/BT474_Persister_rep_2_L002_R1.fastq.gz\n",
      "mv /cellar/users/aklie/data/datasets/Hangauer2017_BT474_RNA-seq/fastq/SRP079968/SRX1979976/SRR3955818_1.fastq.gz /cellar/users/aklie/data/datasets/Hangauer2017_BT474_RNA-seq/fastq/SRP079968/SRX1979976/BT474_Persister_rep_2_L003_R1.fastq.gz\n",
      "mv /cellar/users/aklie/data/datasets/Hangauer2017_BT474_RNA-seq/fastq/SRP079968/SRX1979976/SRR3955819_1.fastq.gz /cellar/users/aklie/data/datasets/Hangauer2017_BT474_RNA-seq/fastq/SRP079968/SRX1979976/BT474_Persister_rep_2_L004_R1.fastq.gz\n",
      "mv /cellar/users/aklie/data/datasets/Hangauer2017_BT474_RNA-seq/fastq/SRP079968/SRX1979976/SRR3955820_1.fastq.gz /cellar/users/aklie/data/datasets/Hangauer2017_BT474_RNA-seq/fastq/SRP079968/SRX1979976/BT474_Persister_rep_2_L005_R1.fastq.gz\n"
     ]
    }
   ],
   "source": [
    "# Rename for CellRanger\n",
    "fastqs_per_sample = {}\n",
    "for dataset in datasets:\n",
    "    fastq_files = sorted(glob.glob(os.path.join(dataset, \"*.fastq.gz\")))\n",
    "    file_mapping = {}\n",
    "    for i, fastq_file in enumerate(fastq_files):\n",
    "        if \"SRR\" not in fastq_file:\n",
    "            print(f\"Already renamed, skipping {fastq_file}\")\n",
    "            continue\n",
    "        read_type = fastq_file.split(\"_\")[-1].split(\".\")[0]\n",
    "        file_path = os.path.dirname(fastq_file)\n",
    "        exp_acc = os.path.basename(file_path).split(\"_\")[0]\n",
    "        if exp_acc not in expacc_to_sample:\n",
    "            print(f\"Skipping {exp_acc}\")\n",
    "            continue\n",
    "        sample_id = expacc_to_sample[exp_acc]\n",
    "        new_file = f\"{file_path}/{sample_id}_L00{i+1}_R1.fastq.gz\"\n",
    "        file_mapping[fastq_file] = new_file\n",
    "        cmd = f\"mv {fastq_file} {new_file}\"\n",
    "        print(cmd)\n",
    "        #os.system(cmd)\n",
    "        if sample_id not in fastqs_per_sample:\n",
    "            fastqs_per_sample[sample_id] = []\n",
    "        fastqs_per_sample[sample_id].append(new_file)\n",
    "    with open(os.path.join(file_path, \"file_mapping.pickle\"), \"wb\") as f:\n",
    "        pickle.dump(file_mapping, f)\n"
   ]
  },
  {
   "cell_type": "code",
   "execution_count": 68,
   "metadata": {},
   "outputs": [
    {
     "name": "stdout",
     "output_type": "stream",
     "text": [
      "cat /cellar/users/aklie/data/datasets/Hangauer2017_BT474_RNA-seq/fastq/SRP079968/SRX1979974/BT474_Parental_rep_2_L001_R1.fastq.gz /cellar/users/aklie/data/datasets/Hangauer2017_BT474_RNA-seq/fastq/SRP079968/SRX1979974/BT474_Parental_rep_2_L002_R1.fastq.gz /cellar/users/aklie/data/datasets/Hangauer2017_BT474_RNA-seq/fastq/SRP079968/SRX1979974/BT474_Parental_rep_2_L003_R1.fastq.gz /cellar/users/aklie/data/datasets/Hangauer2017_BT474_RNA-seq/fastq/SRP079968/SRX1979974/BT474_Parental_rep_2_L004_R1.fastq.gz /cellar/users/aklie/data/datasets/Hangauer2017_BT474_RNA-seq/fastq/SRP079968/SRX1979974/BT474_Parental_rep_2_L005_R1.fastq.gz > /cellar/users/aklie/data/datasets/Hangauer2017_BT474_RNA-seq/fastq/SRP079968/SRX1979974/BT474_Parental_rep_2_R1.fastq.gz\n",
      "cat /cellar/users/aklie/data/datasets/Hangauer2017_BT474_RNA-seq/fastq/SRP079968/SRX1979973/BT474_Parental_rep_1_L001_R1.fastq.gz /cellar/users/aklie/data/datasets/Hangauer2017_BT474_RNA-seq/fastq/SRP079968/SRX1979973/BT474_Parental_rep_1_L002_R1.fastq.gz /cellar/users/aklie/data/datasets/Hangauer2017_BT474_RNA-seq/fastq/SRP079968/SRX1979973/BT474_Parental_rep_1_L003_R1.fastq.gz /cellar/users/aklie/data/datasets/Hangauer2017_BT474_RNA-seq/fastq/SRP079968/SRX1979973/BT474_Parental_rep_1_L004_R1.fastq.gz /cellar/users/aklie/data/datasets/Hangauer2017_BT474_RNA-seq/fastq/SRP079968/SRX1979973/BT474_Parental_rep_1_L005_R1.fastq.gz > /cellar/users/aklie/data/datasets/Hangauer2017_BT474_RNA-seq/fastq/SRP079968/SRX1979973/BT474_Parental_rep_1_R1.fastq.gz\n",
      "cat /cellar/users/aklie/data/datasets/Hangauer2017_BT474_RNA-seq/fastq/SRP079968/SRX1979977/BT474_Persister_rep_3_L001_R1.fastq.gz /cellar/users/aklie/data/datasets/Hangauer2017_BT474_RNA-seq/fastq/SRP079968/SRX1979977/BT474_Persister_rep_3_L002_R1.fastq.gz /cellar/users/aklie/data/datasets/Hangauer2017_BT474_RNA-seq/fastq/SRP079968/SRX1979977/BT474_Persister_rep_3_L003_R1.fastq.gz /cellar/users/aklie/data/datasets/Hangauer2017_BT474_RNA-seq/fastq/SRP079968/SRX1979977/BT474_Persister_rep_3_L004_R1.fastq.gz /cellar/users/aklie/data/datasets/Hangauer2017_BT474_RNA-seq/fastq/SRP079968/SRX1979977/BT474_Persister_rep_3_L005_R1.fastq.gz > /cellar/users/aklie/data/datasets/Hangauer2017_BT474_RNA-seq/fastq/SRP079968/SRX1979977/BT474_Persister_rep_3_R1.fastq.gz\n",
      "cat /cellar/users/aklie/data/datasets/Hangauer2017_BT474_RNA-seq/fastq/SRP079968/SRX1979975/BT474_Persister_rep_1_L001_R1.fastq.gz /cellar/users/aklie/data/datasets/Hangauer2017_BT474_RNA-seq/fastq/SRP079968/SRX1979975/BT474_Persister_rep_1_L002_R1.fastq.gz /cellar/users/aklie/data/datasets/Hangauer2017_BT474_RNA-seq/fastq/SRP079968/SRX1979975/BT474_Persister_rep_1_L003_R1.fastq.gz /cellar/users/aklie/data/datasets/Hangauer2017_BT474_RNA-seq/fastq/SRP079968/SRX1979975/BT474_Persister_rep_1_L004_R1.fastq.gz /cellar/users/aklie/data/datasets/Hangauer2017_BT474_RNA-seq/fastq/SRP079968/SRX1979975/BT474_Persister_rep_1_L005_R1.fastq.gz > /cellar/users/aklie/data/datasets/Hangauer2017_BT474_RNA-seq/fastq/SRP079968/SRX1979975/BT474_Persister_rep_1_R1.fastq.gz\n",
      "cat /cellar/users/aklie/data/datasets/Hangauer2017_BT474_RNA-seq/fastq/SRP079968/SRX1979976/BT474_Persister_rep_2_L001_R1.fastq.gz /cellar/users/aklie/data/datasets/Hangauer2017_BT474_RNA-seq/fastq/SRP079968/SRX1979976/BT474_Persister_rep_2_L002_R1.fastq.gz /cellar/users/aklie/data/datasets/Hangauer2017_BT474_RNA-seq/fastq/SRP079968/SRX1979976/BT474_Persister_rep_2_L003_R1.fastq.gz /cellar/users/aklie/data/datasets/Hangauer2017_BT474_RNA-seq/fastq/SRP079968/SRX1979976/BT474_Persister_rep_2_L004_R1.fastq.gz /cellar/users/aklie/data/datasets/Hangauer2017_BT474_RNA-seq/fastq/SRP079968/SRX1979976/BT474_Persister_rep_2_L005_R1.fastq.gz > /cellar/users/aklie/data/datasets/Hangauer2017_BT474_RNA-seq/fastq/SRP079968/SRX1979976/BT474_Persister_rep_2_R1.fastq.gz\n"
     ]
    }
   ],
   "source": [
    "# For each sample, concatenate the fastq files using cat\n",
    "merged_files = []\n",
    "for sample_id, fastq_files in fastqs_per_sample.items():\n",
    "    if len(fastq_files) == 1:\n",
    "        continue\n",
    "    cat_cmd = f\"cat {' '.join(fastq_files)} > {fastq_files[0].replace('_L001_', '_')}\"\n",
    "    merged_files.append(fastq_files[0].replace('_L001_', '_'))\n",
    "    print(cat_cmd)\n",
    "    #os.system(cat_cmd)"
   ]
  },
  {
   "cell_type": "code",
   "execution_count": 69,
   "metadata": {},
   "outputs": [
    {
     "data": {
      "text/plain": [
       "['/cellar/users/aklie/data/datasets/Hangauer2017_BT474_RNA-seq/fastq/SRP079968/SRX1979974/BT474_Parental_rep_2_R1.fastq.gz',\n",
       " '/cellar/users/aklie/data/datasets/Hangauer2017_BT474_RNA-seq/fastq/SRP079968/SRX1979973/BT474_Parental_rep_1_R1.fastq.gz',\n",
       " '/cellar/users/aklie/data/datasets/Hangauer2017_BT474_RNA-seq/fastq/SRP079968/SRX1979977/BT474_Persister_rep_3_R1.fastq.gz',\n",
       " '/cellar/users/aklie/data/datasets/Hangauer2017_BT474_RNA-seq/fastq/SRP079968/SRX1979975/BT474_Persister_rep_1_R1.fastq.gz',\n",
       " '/cellar/users/aklie/data/datasets/Hangauer2017_BT474_RNA-seq/fastq/SRP079968/SRX1979976/BT474_Persister_rep_2_R1.fastq.gz']"
      ]
     },
     "execution_count": 69,
     "metadata": {},
     "output_type": "execute_result"
    }
   ],
   "source": [
    "merged_files"
   ]
  },
  {
   "cell_type": "code",
   "execution_count": 70,
   "metadata": {},
   "outputs": [
    {
     "name": "stdout",
     "output_type": "stream",
     "text": [
      "fastqc -o /cellar/users/aklie/data/datasets/Hangauer2017_BT474_RNA-seq/fastq/SRP079968/fastqc /cellar/users/aklie/data/datasets/Hangauer2017_BT474_RNA-seq/fastq/SRP079968/SRX1979974/BT474_Parental_rep_2_R1.fastq.gz\n",
      "fastqc -o /cellar/users/aklie/data/datasets/Hangauer2017_BT474_RNA-seq/fastq/SRP079968/fastqc /cellar/users/aklie/data/datasets/Hangauer2017_BT474_RNA-seq/fastq/SRP079968/SRX1979973/BT474_Parental_rep_1_R1.fastq.gz\n",
      "fastqc -o /cellar/users/aklie/data/datasets/Hangauer2017_BT474_RNA-seq/fastq/SRP079968/fastqc /cellar/users/aklie/data/datasets/Hangauer2017_BT474_RNA-seq/fastq/SRP079968/SRX1979977/BT474_Persister_rep_3_R1.fastq.gz\n",
      "fastqc -o /cellar/users/aklie/data/datasets/Hangauer2017_BT474_RNA-seq/fastq/SRP079968/fastqc /cellar/users/aklie/data/datasets/Hangauer2017_BT474_RNA-seq/fastq/SRP079968/SRX1979975/BT474_Persister_rep_1_R1.fastq.gz\n",
      "fastqc -o /cellar/users/aklie/data/datasets/Hangauer2017_BT474_RNA-seq/fastq/SRP079968/fastqc /cellar/users/aklie/data/datasets/Hangauer2017_BT474_RNA-seq/fastq/SRP079968/SRX1979976/BT474_Persister_rep_2_R1.fastq.gz\n"
     ]
    }
   ],
   "source": [
    "# for each sample, run fastqc\n",
    "fastqc_dir = \"/cellar/users/aklie/data/datasets/Hangauer2017_BT474_RNA-seq/fastq/SRP079968/fastqc\"\n",
    "for merged_file in merged_files:\n",
    "    fastqc_cmd = f\"fastqc -o {fastqc_dir} {merged_file}\"\n",
    "    print(fastqc_cmd)\n",
    "    #os.system(fastqc_cmd)"
   ]
  },
  {
   "attachments": {},
   "cell_type": "markdown",
   "metadata": {},
   "source": [
    "# DONE!"
   ]
  },
  {
   "attachments": {},
   "cell_type": "markdown",
   "metadata": {},
   "source": [
    "---"
   ]
  },
  {
   "cell_type": "code",
   "execution_count": 49,
   "metadata": {},
   "outputs": [],
   "source": [
    "import pandas as pd"
   ]
  },
  {
   "cell_type": "code",
   "execution_count": 63,
   "metadata": {},
   "outputs": [],
   "source": [
    "seqkit_df = pd.read_csv(\"/cellar/users/aklie/data/datasets/Hangauer2017_BT474_RNA-seq/fastq/SRP079968/fastq_stats.tsv\", sep=\"\\t\")"
   ]
  },
  {
   "cell_type": "code",
   "execution_count": 64,
   "metadata": {},
   "outputs": [],
   "source": [
    "seqkit_df[\"run_accession\"] = seqkit_df[\"file\"].str.split(\"/\").str[-1].str.split(\"_\").str[0]"
   ]
  },
  {
   "cell_type": "code",
   "execution_count": 65,
   "metadata": {},
   "outputs": [
    {
     "data": {
      "text/html": [
       "<div>\n",
       "<style scoped>\n",
       "    .dataframe tbody tr th:only-of-type {\n",
       "        vertical-align: middle;\n",
       "    }\n",
       "\n",
       "    .dataframe tbody tr th {\n",
       "        vertical-align: top;\n",
       "    }\n",
       "\n",
       "    .dataframe thead th {\n",
       "        text-align: right;\n",
       "    }\n",
       "</style>\n",
       "<table border=\"1\" class=\"dataframe\">\n",
       "  <thead>\n",
       "    <tr style=\"text-align: right;\">\n",
       "      <th></th>\n",
       "      <th>file</th>\n",
       "      <th>format</th>\n",
       "      <th>type</th>\n",
       "      <th>num_seqs</th>\n",
       "      <th>sum_len</th>\n",
       "      <th>min_len</th>\n",
       "      <th>avg_len</th>\n",
       "      <th>max_len</th>\n",
       "      <th>run_accession</th>\n",
       "      <th>run_total_spots</th>\n",
       "    </tr>\n",
       "  </thead>\n",
       "  <tbody>\n",
       "    <tr>\n",
       "      <th>0</th>\n",
       "      <td>/cellar/users/aklie/data/datasets/Hangauer2017...</td>\n",
       "      <td>FASTQ</td>\n",
       "      <td>DNA</td>\n",
       "      <td>31849965</td>\n",
       "      <td>1592498250</td>\n",
       "      <td>50</td>\n",
       "      <td>50.0</td>\n",
       "      <td>50</td>\n",
       "      <td>SRR3955801</td>\n",
       "      <td>31849965</td>\n",
       "    </tr>\n",
       "    <tr>\n",
       "      <th>1</th>\n",
       "      <td>/cellar/users/aklie/data/datasets/Hangauer2017...</td>\n",
       "      <td>FASTQ</td>\n",
       "      <td>DNA</td>\n",
       "      <td>31942393</td>\n",
       "      <td>1597119650</td>\n",
       "      <td>50</td>\n",
       "      <td>50.0</td>\n",
       "      <td>50</td>\n",
       "      <td>SRR3955802</td>\n",
       "      <td>31942393</td>\n",
       "    </tr>\n",
       "    <tr>\n",
       "      <th>2</th>\n",
       "      <td>/cellar/users/aklie/data/datasets/Hangauer2017...</td>\n",
       "      <td>FASTQ</td>\n",
       "      <td>DNA</td>\n",
       "      <td>30582105</td>\n",
       "      <td>1529105250</td>\n",
       "      <td>50</td>\n",
       "      <td>50.0</td>\n",
       "      <td>50</td>\n",
       "      <td>SRR3955803</td>\n",
       "      <td>30582105</td>\n",
       "    </tr>\n",
       "    <tr>\n",
       "      <th>3</th>\n",
       "      <td>/cellar/users/aklie/data/datasets/Hangauer2017...</td>\n",
       "      <td>FASTQ</td>\n",
       "      <td>DNA</td>\n",
       "      <td>31802569</td>\n",
       "      <td>1590128450</td>\n",
       "      <td>50</td>\n",
       "      <td>50.0</td>\n",
       "      <td>50</td>\n",
       "      <td>SRR3955804</td>\n",
       "      <td>31802569</td>\n",
       "    </tr>\n",
       "    <tr>\n",
       "      <th>4</th>\n",
       "      <td>/cellar/users/aklie/data/datasets/Hangauer2017...</td>\n",
       "      <td>FASTQ</td>\n",
       "      <td>DNA</td>\n",
       "      <td>31876916</td>\n",
       "      <td>1625722716</td>\n",
       "      <td>51</td>\n",
       "      <td>51.0</td>\n",
       "      <td>51</td>\n",
       "      <td>SRR3955805</td>\n",
       "      <td>31876916</td>\n",
       "    </tr>\n",
       "    <tr>\n",
       "      <th>5</th>\n",
       "      <td>/cellar/users/aklie/data/datasets/Hangauer2017...</td>\n",
       "      <td>FASTQ</td>\n",
       "      <td>DNA</td>\n",
       "      <td>31848904</td>\n",
       "      <td>1592445200</td>\n",
       "      <td>50</td>\n",
       "      <td>50.0</td>\n",
       "      <td>50</td>\n",
       "      <td>SRR3955806</td>\n",
       "      <td>31848904</td>\n",
       "    </tr>\n",
       "    <tr>\n",
       "      <th>6</th>\n",
       "      <td>/cellar/users/aklie/data/datasets/Hangauer2017...</td>\n",
       "      <td>FASTQ</td>\n",
       "      <td>DNA</td>\n",
       "      <td>31895843</td>\n",
       "      <td>1594792150</td>\n",
       "      <td>50</td>\n",
       "      <td>50.0</td>\n",
       "      <td>50</td>\n",
       "      <td>SRR3955807</td>\n",
       "      <td>31895843</td>\n",
       "    </tr>\n",
       "    <tr>\n",
       "      <th>7</th>\n",
       "      <td>/cellar/users/aklie/data/datasets/Hangauer2017...</td>\n",
       "      <td>FASTQ</td>\n",
       "      <td>DNA</td>\n",
       "      <td>30669115</td>\n",
       "      <td>1533455750</td>\n",
       "      <td>50</td>\n",
       "      <td>50.0</td>\n",
       "      <td>50</td>\n",
       "      <td>SRR3955808</td>\n",
       "      <td>30669115</td>\n",
       "    </tr>\n",
       "    <tr>\n",
       "      <th>8</th>\n",
       "      <td>/cellar/users/aklie/data/datasets/Hangauer2017...</td>\n",
       "      <td>FASTQ</td>\n",
       "      <td>DNA</td>\n",
       "      <td>31785722</td>\n",
       "      <td>1589286100</td>\n",
       "      <td>50</td>\n",
       "      <td>50.0</td>\n",
       "      <td>50</td>\n",
       "      <td>SRR3955809</td>\n",
       "      <td>31785722</td>\n",
       "    </tr>\n",
       "    <tr>\n",
       "      <th>9</th>\n",
       "      <td>/cellar/users/aklie/data/datasets/Hangauer2017...</td>\n",
       "      <td>FASTQ</td>\n",
       "      <td>DNA</td>\n",
       "      <td>31402101</td>\n",
       "      <td>1601507151</td>\n",
       "      <td>51</td>\n",
       "      <td>51.0</td>\n",
       "      <td>51</td>\n",
       "      <td>SRR3955810</td>\n",
       "      <td>31402101</td>\n",
       "    </tr>\n",
       "    <tr>\n",
       "      <th>10</th>\n",
       "      <td>/cellar/users/aklie/data/datasets/Hangauer2017...</td>\n",
       "      <td>FASTQ</td>\n",
       "      <td>DNA</td>\n",
       "      <td>30596834</td>\n",
       "      <td>1529841700</td>\n",
       "      <td>50</td>\n",
       "      <td>50.0</td>\n",
       "      <td>50</td>\n",
       "      <td>SRR3955811</td>\n",
       "      <td>30596834</td>\n",
       "    </tr>\n",
       "    <tr>\n",
       "      <th>11</th>\n",
       "      <td>/cellar/users/aklie/data/datasets/Hangauer2017...</td>\n",
       "      <td>FASTQ</td>\n",
       "      <td>DNA</td>\n",
       "      <td>30668664</td>\n",
       "      <td>1533433200</td>\n",
       "      <td>50</td>\n",
       "      <td>50.0</td>\n",
       "      <td>50</td>\n",
       "      <td>SRR3955812</td>\n",
       "      <td>30668664</td>\n",
       "    </tr>\n",
       "    <tr>\n",
       "      <th>12</th>\n",
       "      <td>/cellar/users/aklie/data/datasets/Hangauer2017...</td>\n",
       "      <td>FASTQ</td>\n",
       "      <td>DNA</td>\n",
       "      <td>29532831</td>\n",
       "      <td>1476641550</td>\n",
       "      <td>50</td>\n",
       "      <td>50.0</td>\n",
       "      <td>50</td>\n",
       "      <td>SRR3955813</td>\n",
       "      <td>29532831</td>\n",
       "    </tr>\n",
       "    <tr>\n",
       "      <th>13</th>\n",
       "      <td>/cellar/users/aklie/data/datasets/Hangauer2017...</td>\n",
       "      <td>FASTQ</td>\n",
       "      <td>DNA</td>\n",
       "      <td>30441051</td>\n",
       "      <td>1522052550</td>\n",
       "      <td>50</td>\n",
       "      <td>50.0</td>\n",
       "      <td>50</td>\n",
       "      <td>SRR3955814</td>\n",
       "      <td>30441051</td>\n",
       "    </tr>\n",
       "    <tr>\n",
       "      <th>14</th>\n",
       "      <td>/cellar/users/aklie/data/datasets/Hangauer2017...</td>\n",
       "      <td>FASTQ</td>\n",
       "      <td>DNA</td>\n",
       "      <td>30764606</td>\n",
       "      <td>1568994906</td>\n",
       "      <td>51</td>\n",
       "      <td>51.0</td>\n",
       "      <td>51</td>\n",
       "      <td>SRR3955815</td>\n",
       "      <td>30764606</td>\n",
       "    </tr>\n",
       "    <tr>\n",
       "      <th>15</th>\n",
       "      <td>/cellar/users/aklie/data/datasets/Hangauer2017...</td>\n",
       "      <td>FASTQ</td>\n",
       "      <td>DNA</td>\n",
       "      <td>33673012</td>\n",
       "      <td>1683650600</td>\n",
       "      <td>50</td>\n",
       "      <td>50.0</td>\n",
       "      <td>50</td>\n",
       "      <td>SRR3955816</td>\n",
       "      <td>33673012</td>\n",
       "    </tr>\n",
       "    <tr>\n",
       "      <th>16</th>\n",
       "      <td>/cellar/users/aklie/data/datasets/Hangauer2017...</td>\n",
       "      <td>FASTQ</td>\n",
       "      <td>DNA</td>\n",
       "      <td>33818692</td>\n",
       "      <td>1690934600</td>\n",
       "      <td>50</td>\n",
       "      <td>50.0</td>\n",
       "      <td>50</td>\n",
       "      <td>SRR3955817</td>\n",
       "      <td>33818692</td>\n",
       "    </tr>\n",
       "    <tr>\n",
       "      <th>17</th>\n",
       "      <td>/cellar/users/aklie/data/datasets/Hangauer2017...</td>\n",
       "      <td>FASTQ</td>\n",
       "      <td>DNA</td>\n",
       "      <td>32514812</td>\n",
       "      <td>1625740600</td>\n",
       "      <td>50</td>\n",
       "      <td>50.0</td>\n",
       "      <td>50</td>\n",
       "      <td>SRR3955818</td>\n",
       "      <td>32514812</td>\n",
       "    </tr>\n",
       "    <tr>\n",
       "      <th>18</th>\n",
       "      <td>/cellar/users/aklie/data/datasets/Hangauer2017...</td>\n",
       "      <td>FASTQ</td>\n",
       "      <td>DNA</td>\n",
       "      <td>33667024</td>\n",
       "      <td>1683351200</td>\n",
       "      <td>50</td>\n",
       "      <td>50.0</td>\n",
       "      <td>50</td>\n",
       "      <td>SRR3955819</td>\n",
       "      <td>33667024</td>\n",
       "    </tr>\n",
       "    <tr>\n",
       "      <th>19</th>\n",
       "      <td>/cellar/users/aklie/data/datasets/Hangauer2017...</td>\n",
       "      <td>FASTQ</td>\n",
       "      <td>DNA</td>\n",
       "      <td>32822514</td>\n",
       "      <td>1673948214</td>\n",
       "      <td>51</td>\n",
       "      <td>51.0</td>\n",
       "      <td>51</td>\n",
       "      <td>SRR3955820</td>\n",
       "      <td>32822514</td>\n",
       "    </tr>\n",
       "    <tr>\n",
       "      <th>20</th>\n",
       "      <td>/cellar/users/aklie/data/datasets/Hangauer2017...</td>\n",
       "      <td>FASTQ</td>\n",
       "      <td>DNA</td>\n",
       "      <td>30754611</td>\n",
       "      <td>1537730550</td>\n",
       "      <td>50</td>\n",
       "      <td>50.0</td>\n",
       "      <td>50</td>\n",
       "      <td>SRR3955821</td>\n",
       "      <td>30754611</td>\n",
       "    </tr>\n",
       "    <tr>\n",
       "      <th>21</th>\n",
       "      <td>/cellar/users/aklie/data/datasets/Hangauer2017...</td>\n",
       "      <td>FASTQ</td>\n",
       "      <td>DNA</td>\n",
       "      <td>30899133</td>\n",
       "      <td>1544956650</td>\n",
       "      <td>50</td>\n",
       "      <td>50.0</td>\n",
       "      <td>50</td>\n",
       "      <td>SRR3955822</td>\n",
       "      <td>30899133</td>\n",
       "    </tr>\n",
       "    <tr>\n",
       "      <th>22</th>\n",
       "      <td>/cellar/users/aklie/data/datasets/Hangauer2017...</td>\n",
       "      <td>FASTQ</td>\n",
       "      <td>DNA</td>\n",
       "      <td>29706249</td>\n",
       "      <td>1485312450</td>\n",
       "      <td>50</td>\n",
       "      <td>50.0</td>\n",
       "      <td>50</td>\n",
       "      <td>SRR3955823</td>\n",
       "      <td>29706249</td>\n",
       "    </tr>\n",
       "    <tr>\n",
       "      <th>23</th>\n",
       "      <td>/cellar/users/aklie/data/datasets/Hangauer2017...</td>\n",
       "      <td>FASTQ</td>\n",
       "      <td>DNA</td>\n",
       "      <td>30718811</td>\n",
       "      <td>1535940550</td>\n",
       "      <td>50</td>\n",
       "      <td>50.0</td>\n",
       "      <td>50</td>\n",
       "      <td>SRR3955824</td>\n",
       "      <td>30718811</td>\n",
       "    </tr>\n",
       "    <tr>\n",
       "      <th>24</th>\n",
       "      <td>/cellar/users/aklie/data/datasets/Hangauer2017...</td>\n",
       "      <td>FASTQ</td>\n",
       "      <td>DNA</td>\n",
       "      <td>30128347</td>\n",
       "      <td>1536545697</td>\n",
       "      <td>51</td>\n",
       "      <td>51.0</td>\n",
       "      <td>51</td>\n",
       "      <td>SRR3955825</td>\n",
       "      <td>30128347</td>\n",
       "    </tr>\n",
       "  </tbody>\n",
       "</table>\n",
       "</div>"
      ],
      "text/plain": [
       "                                                 file format type  num_seqs  \\\n",
       "0   /cellar/users/aklie/data/datasets/Hangauer2017...  FASTQ  DNA  31849965   \n",
       "1   /cellar/users/aklie/data/datasets/Hangauer2017...  FASTQ  DNA  31942393   \n",
       "2   /cellar/users/aklie/data/datasets/Hangauer2017...  FASTQ  DNA  30582105   \n",
       "3   /cellar/users/aklie/data/datasets/Hangauer2017...  FASTQ  DNA  31802569   \n",
       "4   /cellar/users/aklie/data/datasets/Hangauer2017...  FASTQ  DNA  31876916   \n",
       "5   /cellar/users/aklie/data/datasets/Hangauer2017...  FASTQ  DNA  31848904   \n",
       "6   /cellar/users/aklie/data/datasets/Hangauer2017...  FASTQ  DNA  31895843   \n",
       "7   /cellar/users/aklie/data/datasets/Hangauer2017...  FASTQ  DNA  30669115   \n",
       "8   /cellar/users/aklie/data/datasets/Hangauer2017...  FASTQ  DNA  31785722   \n",
       "9   /cellar/users/aklie/data/datasets/Hangauer2017...  FASTQ  DNA  31402101   \n",
       "10  /cellar/users/aklie/data/datasets/Hangauer2017...  FASTQ  DNA  30596834   \n",
       "11  /cellar/users/aklie/data/datasets/Hangauer2017...  FASTQ  DNA  30668664   \n",
       "12  /cellar/users/aklie/data/datasets/Hangauer2017...  FASTQ  DNA  29532831   \n",
       "13  /cellar/users/aklie/data/datasets/Hangauer2017...  FASTQ  DNA  30441051   \n",
       "14  /cellar/users/aklie/data/datasets/Hangauer2017...  FASTQ  DNA  30764606   \n",
       "15  /cellar/users/aklie/data/datasets/Hangauer2017...  FASTQ  DNA  33673012   \n",
       "16  /cellar/users/aklie/data/datasets/Hangauer2017...  FASTQ  DNA  33818692   \n",
       "17  /cellar/users/aklie/data/datasets/Hangauer2017...  FASTQ  DNA  32514812   \n",
       "18  /cellar/users/aklie/data/datasets/Hangauer2017...  FASTQ  DNA  33667024   \n",
       "19  /cellar/users/aklie/data/datasets/Hangauer2017...  FASTQ  DNA  32822514   \n",
       "20  /cellar/users/aklie/data/datasets/Hangauer2017...  FASTQ  DNA  30754611   \n",
       "21  /cellar/users/aklie/data/datasets/Hangauer2017...  FASTQ  DNA  30899133   \n",
       "22  /cellar/users/aklie/data/datasets/Hangauer2017...  FASTQ  DNA  29706249   \n",
       "23  /cellar/users/aklie/data/datasets/Hangauer2017...  FASTQ  DNA  30718811   \n",
       "24  /cellar/users/aklie/data/datasets/Hangauer2017...  FASTQ  DNA  30128347   \n",
       "\n",
       "       sum_len  min_len  avg_len  max_len run_accession run_total_spots  \n",
       "0   1592498250       50     50.0       50    SRR3955801        31849965  \n",
       "1   1597119650       50     50.0       50    SRR3955802        31942393  \n",
       "2   1529105250       50     50.0       50    SRR3955803        30582105  \n",
       "3   1590128450       50     50.0       50    SRR3955804        31802569  \n",
       "4   1625722716       51     51.0       51    SRR3955805        31876916  \n",
       "5   1592445200       50     50.0       50    SRR3955806        31848904  \n",
       "6   1594792150       50     50.0       50    SRR3955807        31895843  \n",
       "7   1533455750       50     50.0       50    SRR3955808        30669115  \n",
       "8   1589286100       50     50.0       50    SRR3955809        31785722  \n",
       "9   1601507151       51     51.0       51    SRR3955810        31402101  \n",
       "10  1529841700       50     50.0       50    SRR3955811        30596834  \n",
       "11  1533433200       50     50.0       50    SRR3955812        30668664  \n",
       "12  1476641550       50     50.0       50    SRR3955813        29532831  \n",
       "13  1522052550       50     50.0       50    SRR3955814        30441051  \n",
       "14  1568994906       51     51.0       51    SRR3955815        30764606  \n",
       "15  1683650600       50     50.0       50    SRR3955816        33673012  \n",
       "16  1690934600       50     50.0       50    SRR3955817        33818692  \n",
       "17  1625740600       50     50.0       50    SRR3955818        32514812  \n",
       "18  1683351200       50     50.0       50    SRR3955819        33667024  \n",
       "19  1673948214       51     51.0       51    SRR3955820        32822514  \n",
       "20  1537730550       50     50.0       50    SRR3955821        30754611  \n",
       "21  1544956650       50     50.0       50    SRR3955822        30899133  \n",
       "22  1485312450       50     50.0       50    SRR3955823        29706249  \n",
       "23  1535940550       50     50.0       50    SRR3955824        30718811  \n",
       "24  1536545697       51     51.0       51    SRR3955825        30128347  "
      ]
     },
     "execution_count": 65,
     "metadata": {},
     "output_type": "execute_result"
    }
   ],
   "source": [
    "seqkit_df.merge(metadata[[\"run_accession\", 'run_total_spots']], on=\"run_accession\")"
   ]
  },
  {
   "cell_type": "code",
   "execution_count": 38,
   "metadata": {},
   "outputs": [
    {
     "data": {
      "text/plain": [
       "sample_accession\n",
       "SRS1587381    31849965\n",
       "SRS1587381    31942393\n",
       "SRS1587381    30582105\n",
       "SRS1587381    31802569\n",
       "SRS1587381    31876916\n",
       "SRS1587382    31848904\n",
       "SRS1587382    31895843\n",
       "SRS1587382    30669115\n",
       "SRS1587382    31785722\n",
       "SRS1587382    31402101\n",
       "SRS1587383    30596834\n",
       "SRS1587383    30668664\n",
       "SRS1587383    29532831\n",
       "SRS1587383    30441051\n",
       "SRS1587383    30764606\n",
       "SRS1587384    33673012\n",
       "SRS1587384    33818692\n",
       "SRS1587384    32514812\n",
       "SRS1587384    33667024\n",
       "SRS1587384    32822514\n",
       "SRS1587385    30754611\n",
       "SRS1587385    30899133\n",
       "SRS1587385    29706249\n",
       "SRS1587385    30718811\n",
       "SRS1587385    30128347\n",
       "Name: run_total_spots, dtype: object"
      ]
     },
     "execution_count": 38,
     "metadata": {},
     "output_type": "execute_result"
    }
   ],
   "source": []
  },
  {
   "cell_type": "code",
   "execution_count": null,
   "metadata": {},
   "outputs": [],
   "source": []
  }
 ],
 "metadata": {
  "kernelspec": {
   "display_name": "Python 3.7 get_data",
   "language": "python",
   "name": "get_data"
  },
  "orig_nbformat": 4
 },
 "nbformat": 4,
 "nbformat_minor": 2
}
