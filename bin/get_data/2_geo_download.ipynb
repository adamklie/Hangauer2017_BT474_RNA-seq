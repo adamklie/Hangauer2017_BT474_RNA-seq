{
 "cells": [
  {
   "attachments": {},
   "cell_type": "markdown",
   "metadata": {},
   "source": [
    "# Set-up"
   ]
  },
  {
   "cell_type": "code",
   "execution_count": 1,
   "metadata": {},
   "outputs": [
    {
     "name": "stdout",
     "output_type": "stream",
     "text": [
      "The history saving thread hit an unexpected error (DatabaseError('database disk image is malformed')).History will not be written to the database.\n"
     ]
    }
   ],
   "source": [
    "import os\n",
    "import GEOparse"
   ]
  },
  {
   "cell_type": "code",
   "execution_count": 2,
   "metadata": {},
   "outputs": [],
   "source": [
    "# Choose the current dataset we are working with\n",
    "dataset_name = \"Hangauer2017_BT474_RNA-seq\"\n",
    "geo_id = \"GSE84896\""
   ]
  },
  {
   "cell_type": "code",
   "execution_count": 3,
   "metadata": {},
   "outputs": [],
   "source": [
    "# Set-up directories\n",
    "base_dir = \"/cellar/users/aklie/data/datasets/Hangauer2017_BT474_RNA-seq\"\n",
    "cwd = os.path.join(base_dir, \"bin/get_data\")"
   ]
  },
  {
   "cell_type": "code",
   "execution_count": 4,
   "metadata": {},
   "outputs": [
    {
     "name": "stderr",
     "output_type": "stream",
     "text": [
      "26-Jul-2024 16:28:20 DEBUG utils - Directory /cellar/users/aklie/data/datasets/Hangauer2017_BT474_RNA-seq/bin/get_data already exists. Skipping.\n",
      "26-Jul-2024 16:28:20 INFO GEOparse - Downloading ftp://ftp.ncbi.nlm.nih.gov/geo/series/GSE84nnn/GSE84896/soft/GSE84896_family.soft.gz to /cellar/users/aklie/data/datasets/Hangauer2017_BT474_RNA-seq/bin/get_data/GSE84896_family.soft.gz\n",
      "26-Jul-2024 16:28:20 INFO GEOparse - Downloading ftp://ftp.ncbi.nlm.nih.gov/geo/series/GSE84nnn/GSE84896/soft/GSE84896_family.soft.gz to /cellar/users/aklie/data/datasets/Hangauer2017_BT474_RNA-seq/bin/get_data/GSE84896_family.soft.gz\n",
      "100%|██████████| 2.93k/2.93k [00:00<00:00, 9.14kB/s]\n",
      "26-Jul-2024 16:28:21 DEBUG downloader - Size validation passed\n",
      "26-Jul-2024 16:28:21 DEBUG downloader - Moving /tmp/tmp8v5m0b62 to /cellar/users/aklie/data/datasets/Hangauer2017_BT474_RNA-seq/bin/get_data/GSE84896_family.soft.gz\n",
      "26-Jul-2024 16:28:21 DEBUG downloader - Successfully downloaded ftp://ftp.ncbi.nlm.nih.gov/geo/series/GSE84nnn/GSE84896/soft/GSE84896_family.soft.gz\n",
      "26-Jul-2024 16:28:21 INFO GEOparse - Parsing /cellar/users/aklie/data/datasets/Hangauer2017_BT474_RNA-seq/bin/get_data/GSE84896_family.soft.gz: \n",
      "26-Jul-2024 16:28:21 DEBUG GEOparse - DATABASE: GeoMiame\n",
      "26-Jul-2024 16:28:21 DEBUG GEOparse - SERIES: GSE84896\n",
      "26-Jul-2024 16:28:21 DEBUG GEOparse - PLATFORM: GPL11154\n",
      "26-Jul-2024 16:28:21 DEBUG GEOparse - SAMPLE: GSM2253664\n",
      "26-Jul-2024 16:28:21 DEBUG GEOparse - SAMPLE: GSM2253665\n",
      "26-Jul-2024 16:28:21 DEBUG GEOparse - SAMPLE: GSM2253666\n",
      "26-Jul-2024 16:28:21 DEBUG GEOparse - SAMPLE: GSM2253667\n",
      "26-Jul-2024 16:28:21 DEBUG GEOparse - SAMPLE: GSM2253668\n"
     ]
    }
   ],
   "source": [
    "gse = GEOparse.get_GEO(geo=geo_id, destdir=cwd)"
   ]
  },
  {
   "cell_type": "code",
   "execution_count": 9,
   "metadata": {},
   "outputs": [],
   "source": [
    "supp_file = gse.metadata[\"supplementary_file\"][0]"
   ]
  },
  {
   "cell_type": "code",
   "execution_count": 10,
   "metadata": {},
   "outputs": [],
   "source": [
    "outdir = \"/cellar/users/aklie/data/datasets/Hangauer2017_BT474_RNA-seq/pub\""
   ]
  },
  {
   "cell_type": "code",
   "execution_count": 11,
   "metadata": {},
   "outputs": [
    {
     "name": "stdout",
     "output_type": "stream",
     "text": [
      "--2024-07-26 16:29:41--  ftp://ftp.ncbi.nlm.nih.gov/geo/series/GSE84nnn/GSE84896/suppl/GSE84896_BT474_Parental_Persister_CuffDiff.txt.gz\n",
      "           => ‘/cellar/users/aklie/data/datasets/Hangauer2017_BT474_RNA-seq/pub/GSE84896_BT474_Parental_Persister_CuffDiff.txt.gz’\n",
      "Resolving ftp.ncbi.nlm.nih.gov (ftp.ncbi.nlm.nih.gov)... 130.14.250.13, 130.14.250.31, 130.14.250.12, ...\n",
      "Connecting to ftp.ncbi.nlm.nih.gov (ftp.ncbi.nlm.nih.gov)|130.14.250.13|:21... connected.\n",
      "Logging in as anonymous ... Logged in!\n",
      "==> SYST ... done.    ==> PWD ... done.\n",
      "==> TYPE I ... done.  ==> CWD (1) /geo/series/GSE84nnn/GSE84896/suppl ... done.\n",
      "==> SIZE GSE84896_BT474_Parental_Persister_CuffDiff.txt.gz ... 412672\n",
      "==> PASV ... done.    ==> RETR GSE84896_BT474_Parental_Persister_CuffDiff.txt.gz ... done.\n",
      "Length: 412672 (403K) (unauthoritative)\n",
      "\n",
      "GSE84896_BT474_Pare 100%[===================>] 403.00K  1.40MB/s    in 0.3s    \n",
      "\n",
      "2024-07-26 16:29:43 (1.40 MB/s) - ‘/cellar/users/aklie/data/datasets/Hangauer2017_BT474_RNA-seq/pub/GSE84896_BT474_Parental_Persister_CuffDiff.txt.gz’ saved [412672]\n",
      "\n"
     ]
    }
   ],
   "source": [
    "# wget the files to the correct directories\n",
    "!wget -P $outdir $supp_file"
   ]
  },
  {
   "attachments": {},
   "cell_type": "markdown",
   "metadata": {},
   "source": [
    "# DONE!"
   ]
  },
  {
   "attachments": {},
   "cell_type": "markdown",
   "metadata": {},
   "source": [
    "---"
   ]
  }
 ],
 "metadata": {
  "kernelspec": {
   "display_name": "Python 3.7 get_data",
   "language": "python",
   "name": "get_data"
  },
  "orig_nbformat": 4
 },
 "nbformat": 4,
 "nbformat_minor": 2
}
